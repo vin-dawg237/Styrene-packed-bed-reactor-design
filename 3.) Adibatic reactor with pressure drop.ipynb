{
 "cells": [
  {
   "cell_type": "code",
   "execution_count": 134,
   "metadata": {
    "id": "k6taYXiNitik"
   },
   "outputs": [],
   "source": [
    "from scipy.integrate import solve_ivp \n",
    "from numpy import linspace, array\n",
    "from scipy.optimize import fsolve \n",
    "from matplotlib import pyplot as plt\n",
    "import numpy"
   ]
  },
  {
   "cell_type": "markdown",
   "metadata": {
    "id": "kLNFGGkYAk2G"
   },
   "source": [
    "From investigation 2"
   ]
  },
  {
   "cell_type": "code",
   "execution_count": 135,
   "metadata": {
    "id": "clxR1GMc_Lvn"
   },
   "outputs": [],
   "source": [
    "steam_eb_molar_ratio, n_tubes, Di, To, Length = [27.3, 1356.53, 35.6/1000, 939, 6.5] #Units = Di [mm], To[K], Length[m]\n",
    "A_cross = (numpy.pi*Di**2)/4 #m2"
   ]
  },
  {
   "cell_type": "code",
   "execution_count": 136,
   "metadata": {
    "colab": {
     "base_uri": "https://localhost:8080/"
    },
    "id": "QARtGBWteSiX",
    "outputId": "72624fa9-1875-412f-a4fb-974ee60436c1"
   },
   "outputs": [
    {
     "name": "stdout",
     "output_type": "stream",
     "text": [
      "Po = 243.18 kPa\n"
     ]
    }
   ],
   "source": [
    "Po_original = 2.4*101325 #Pa\n",
    "Ua = 100/60 #kJ/m3/s/K\n",
    "Tu = 1000 #K\n",
    "print('Po =', Po_original/1000, 'kPa')"
   ]
  },
  {
   "cell_type": "markdown",
   "metadata": {
    "id": "pWIp167mGP8v"
   },
   "source": [
    "Inlet flowartes"
   ]
  },
  {
   "cell_type": "code",
   "execution_count": 137,
   "metadata": {
    "id": "NebBMbbRGN7x"
   },
   "outputs": [],
   "source": [
    "F_EBo = 0.00344 #kmol/s\n",
    "F_St = F_EBo*steam_eb_molar_ratio #kmol/s\n",
    "Fto = (F_St + F_EBo) #kmol/s"
   ]
  },
  {
   "cell_type": "markdown",
   "metadata": {
    "id": "znz04TvCAgnB"
   },
   "source": [
    "Constants"
   ]
  },
  {
   "cell_type": "code",
   "execution_count": 138,
   "metadata": {
    "id": "j0gblJPxAfd2"
   },
   "outputs": [],
   "source": [
    "V = 10 #m3\n",
    "dp = 1/1000 #m\n",
    "pc = 2137 #kg/m3\n",
    "por = 0.4\n",
    "pb = pc*(1-por) #kg/m3\n",
    "\n",
    "W = V*pc #kg\n",
    "\n",
    "R = 8.314 #kJ/kmol/K\n",
    "\n",
    "MM_EB = 106#.167 kg/kmol\n",
    "MM_St = 18 #kg/kmol\n",
    "Avg_inlet_MM = (F_EBo/(Fto))*MM_EB + (F_St/(Fto))*MM_St #kg/kmol\n",
    "\n",
    "\n",
    "muEB = 0.669*10**-3 #Pa.s X\n",
    "muSt = 0.029*10**-3 #500 degC and 200 kPa X\n",
    "mu = (F_EBo/(F_St+F_EBo))*muEB + (F_St/(F_St+F_EBo))*muSt #Pa.s"
   ]
  },
  {
   "cell_type": "markdown",
   "metadata": {
    "id": "vKzAUTbBHJ5a"
   },
   "source": [
    "K_ergun calculation"
   ]
  },
  {
   "cell_type": "code",
   "execution_count": 139,
   "metadata": {
    "colab": {
     "base_uri": "https://localhost:8080/"
    },
    "id": "2hkrMHJq4Zkb",
    "outputId": "f0b4a698-d2da-44a1-d512-1429cc9764fd"
   },
   "outputs": [
    {
     "name": "stdout",
     "output_type": "stream",
     "text": [
      "K_ergun = 158594.85278669972 Pa/m\n",
      "Due to the relatively high amount of inert this Ergun constant will result in a pressure drop of 1030.87 kPa over the PBR. For this reason, the inlet Pressure must be increased.\n"
     ]
    }
   ],
   "source": [
    "m_eb = F_EBo*MM_EB #kg/s\n",
    "m_steam = F_St*MM_St #kg/s\n",
    "\n",
    "mass_flowrate = Avg_inlet_MM*Fto#kg/s\n",
    "G = mass_flowrate/A_cross/n_tubes #kgpertube/m2/s\n",
    "def K_ergun(Po):\n",
    "  po = Avg_inlet_MM*(Po/1000)/(R*To) #kg/m3 X\n",
    "  return (G/(po*dp))*((1-por)/por**3)*(150*mu*(1-por)/dp + 1.75*G) # Pa/m\n",
    "print('K_ergun =', K_ergun(Po_original), 'Pa/m')\n",
    "K_ergun_original = K_ergun(Po_original)\n",
    "print('Due to the relatively high amount of inert this Ergun constant will result in a pressure drop of',numpy.round(K_ergun(Po_original)*Length/1000, 2), 'kPa over the PBR. For this reason, the inlet Pressure must be increased.') "
   ]
  },
  {
   "cell_type": "markdown",
   "metadata": {
    "id": "9LjYgOX6ZUXQ"
   },
   "source": [
    "Increasing the inlet pressure will increasing the inital density, which will decrease the Ergun constant, and thus it follows that the pressure drop will decrease."
   ]
  },
  {
   "cell_type": "markdown",
   "metadata": {
    "id": "ihRXLxSaLR0M"
   },
   "source": [
    "Po optimisation\n",
    "\n",
    "Approach 1: Solve for an inlet pressure by specifying the minimum pressure out"
   ]
  },
  {
   "cell_type": "code",
   "execution_count": 140,
   "metadata": {
    "colab": {
     "base_uri": "https://localhost:8080/"
    },
    "id": "b92aKkC0LTm8",
    "outputId": "bbb1a98a-1a6c-4b87-c8e0-948c00d7d6fa"
   },
   "outputs": [
    {
     "name": "stdout",
     "output_type": "stream",
     "text": [
      "Po = 553.905 kPa\n",
      "Pressure drop = 452.58 kPa\n",
      "P_out = 101.32499999999999 kPa\n",
      "The Ergun constant for this Po is 69627.63705088354 Pa/m\n"
     ]
    }
   ],
   "source": [
    "Pout_min = 101325 #Pa\n",
    "def event_1_atm(Po):\n",
    "    po = Avg_inlet_MM*(Po/1000)/(R*To) #kg/m3\n",
    "    return Po - K_ergun(Po)*Length - Pout_min\n",
    "Po_new = numpy.round(fsolve(event_1_atm, 5*101325),0)\n",
    "print('Po =', Po_new[0]/1000, 'kPa')\n",
    "print('Pressure drop =', numpy.round(K_ergun(Po_new)[0]*Length/1000, 2), 'kPa')\n",
    "print('P_out =', Po_new[0]/1000 - numpy.round(K_ergun(Po_new)[0]*Length/1000, 2), 'kPa' )\n",
    "print('The Ergun constant for this Po is', K_ergun(Po_new)[0], 'Pa/m')"
   ]
  },
  {
   "cell_type": "markdown",
   "metadata": {
    "id": "0oF1HeiTXmzO"
   },
   "source": [
    "As can be seen above, Approach 1 results in a very high pressure drop over the reactor. \n",
    "\n",
    "Approach 2: Solve for an inlet pressure by specifying the maximum pressure drop"
   ]
  },
  {
   "cell_type": "code",
   "execution_count": 141,
   "metadata": {
    "id": "b9qzsJ21dAPB"
   },
   "outputs": [],
   "source": [
    "CpM = 68\n",
    "CpE = 90\n",
    "CpB = 201\n",
    "CpT = 249\n",
    "CpSty = 273\n",
    "CpEB = 299\n",
    "CpH = 30\n",
    "CpSt = 40\n",
    "delCp1 = -CpEB + CpSty + CpH\n",
    "delCp2 = -CpEB + CpB + CpE\n",
    "delCp3 = -CpEB - CpH + CpT + CpM"
   ]
  },
  {
   "cell_type": "code",
   "execution_count": 142,
   "metadata": {
    "id": "cbctNCXcdQtn"
   },
   "outputs": [],
   "source": [
    "delHrx1_ref = 118000\n",
    "delHrx2_ref = 105200\n",
    "delHrx3_ref = -53900\n",
    "\n",
    "b1 = -17.34\n",
    "b2 = -1.302*10**4\n",
    "b3 = 5.051\n",
    "b4 = -2.314*10**-10\n",
    "b5 = 1.302*10**-6\n",
    "b6 = -4.931*10**-3"
   ]
  },
  {
   "cell_type": "code",
   "execution_count": 143,
   "metadata": {
    "id": "7ZM5iIfcdmZS"
   },
   "outputs": [],
   "source": [
    "def DE(W, var):\n",
    "  F_M, F_E, F_B, F_T, F_Sty, F_EB, F_H, T, P, K_ergun = var\n",
    "\n",
    "  Ft = F_M + F_E + F_B + F_T + F_Sty + F_EB + F_H + F_St\n",
    "  P_in_atm = P/101325\n",
    "  P_Sty = F_Sty*P_in_atm/Ft\n",
    "  P_EB = F_EB*P_in_atm/Ft\n",
    "  P_H = F_H*P_in_atm/Ft\n",
    "\n",
    "  k1 = numpy.exp(-0.08539 - 10925/T)\n",
    "  Kp1 = numpy.exp(b1 + b2/T + b3*numpy.log(T) + ((b4*T + b5)*T + b6)*T) #atm\n",
    "  rSty1 = pb*k1*(P_EB - P_Sty*P_H/Kp1) #kmol/m3/s\n",
    "\n",
    "  k2 = numpy.exp(13.2392 - 25000/T)\n",
    "  rB2 = pb*k2*P_EB #kmol/m3/s\n",
    "\n",
    "  k3 = numpy.exp(0.2961 - 11000/T)\n",
    "  rT3 = pb*k3*P_EB*P_H #kmol/m3/s\n",
    "\n",
    "  rEB1 = -rSty1 \n",
    "  rEB2 = - rB2 \n",
    "  rEB3 = - rT3\n",
    "\n",
    "\n",
    "  dFMdW = rT3/pb\n",
    "  dFEdW = rB2/pb\n",
    "  dFBdW = rB2/pb\n",
    "  dFTdW = rT3/pb\n",
    "  dFStydW = rSty1/pb\n",
    "  dFEBdW = (-rSty1 - rB2 - rT3)/pb\n",
    "  dFHdW = (rSty1 - rT3)/pb\n",
    "\n",
    "  delHrx1 = delHrx1_ref + delCp1*(T-298)\n",
    "  delHrx2 = delHrx2_ref + delCp2*(T-298)\n",
    "  delHrx3 = delHrx3_ref + delCp3*(T-298)\n",
    "\n",
    "  dPdW = -K_ergun*Po*Ft*T/(P*Fto*To)/A_cross/pb #Pa/kg\n",
    "  dPodW = 0\n",
    "\n",
    "  sum_Fi_Cpi = F_M*CpM + F_E*CpE + F_B*CpB + F_T*CpT + F_Sty*CpSty + F_EB*CpEB + F_H*CpH + F_St*CpSt\n",
    "  dTdW = (-rEB1*delHrx1 - rEB2*delHrx2 - rEB3*delHrx3 - Ua*(1000-T))/-sum_Fi_Cpi/pb \n",
    "  \n",
    "  return dFMdW, dFEdW, dFBdW, dFTdW, dFStydW, dFEBdW, dFHdW, dTdW, dPdW, dPodW"
   ]
  },
  {
   "cell_type": "markdown",
   "metadata": {
    "id": "6YdJjVbyI-sG"
   },
   "source": [
    "This next section explores styrene production as a function of different Ergun constants. The constants was calculated at the original and inlet pressure from Approach 1 but initial pressures of Approach 2 (see at end) was used for the differential equation to stay consistent."
   ]
  },
  {
   "cell_type": "code",
   "execution_count": 144,
   "metadata": {
    "colab": {
     "base_uri": "https://localhost:8080/",
     "height": 543
    },
    "id": "964FBS--qf1U",
    "outputId": "22b954b5-d786-4f37-e779-180f06e0be19"
   },
   "outputs": [
    {
     "name": "stdout",
     "output_type": "stream",
     "text": [
      "[158.59498439 158.59498439 158.59498439 158.59498439 158.59498439\n",
      " 158.59498439 158.59498439 158.59498439 158.59498439 158.59498439\n",
      " 158.59498439 158.59498439 158.59498439 158.59498439 158.59498439\n",
      " 158.59498439 158.59498439 158.59498439 158.59498439 158.59498439\n",
      " 158.59498439 158.59498439 158.59498439 158.59498439 158.59498439\n",
      " 158.59498439 158.59498439 158.59498439 158.59498439 158.59498439\n",
      " 158.59498439 158.59498439 158.59498439 158.59498439 158.59498439\n",
      " 158.59498439 158.59498439]\n"
     ]
    },
    {
     "data": {
      "text/plain": [
       "array([0.        , 0.18154018, 1.87164368, 5.0973123 , 5.23427267,\n",
       "       5.27073639, 5.27399102, 5.27770229, 5.28146336, 5.27927946,\n",
       "       5.2775651 , 5.27728611, 5.27727154, 5.27726764, 5.27726498,\n",
       "       5.27726476, 5.2772646 , 5.27726455, 5.27726451, 5.27726451,\n",
       "       5.2772645 , 5.2772645 , 5.2772645 , 5.2772645 , 5.2772645 ,\n",
       "       5.2772645 , 5.2772645 , 5.2772645 , 5.2772645 , 5.2772645 ,\n",
       "       5.2772645 , 5.2772645 , 5.2772645 , 5.2772645 , 5.2772645 ,\n",
       "       5.2772645 , 5.2772645 ])"
      ]
     },
     "execution_count": 144,
     "metadata": {},
     "output_type": "execute_result"
    },
    {
     "data": {
      "image/png": "[encoded data removed]",
      "text/plain": [
       "<Figure size 432x288 with 1 Axes>"
      ]
     },
     "metadata": {
      "needs_background": "light"
     },
     "output_type": "display_data"
    }
   ],
   "source": [
    "#K_ergun_range = [Kergun_original, Kergun Approach 1)] (Kergun_original>Kergun_approach 1)\n",
    "#Po in Approach 2 was manually solved as 23.65 atm for which W_cat per tube will have 200 kPa P-drop\n",
    "Po = 101325*23.65\n",
    "Start = [0, 0, 0, 0, 0, F_EBo/n_tubes, 0, To, Po, K_ergun(Po_original)]\n",
    "Wspan = numpy.linspace(0,W/n_tubes,37)\n",
    "Out = solve_ivp(DE, (0,W/n_tubes), Start, dense_output = True)\n",
    "Sty = Out.y[4]*n_tubes\n",
    "Tol = Out.y[3][-1]*n_tubes\n",
    "Ben = Out.y[2][-1]*n_tubes\n",
    "H = Out.y[6][-1]*n_tubes\n",
    "selec = Sty/(Tol+Ben)\n",
    "#print(selec, Sty[-1]*1000, Tol*1000, Ben*1000, H*1000)\n",
    "\n",
    "F_M, F_E, F_B, F_T, F_Sty, F_EB, F_H, T, P, Po = Out.sol(Wspan)\n",
    "P = Out.y[8][-1]\n",
    "print(Po/1000-P/1000)\n",
    "plt.plot(Wspan, Sty*1000)\n",
    "Sty_original = Sty*1000\n",
    "selec"
   ]
  },
  {
   "cell_type": "code",
   "execution_count": 145,
   "metadata": {
    "colab": {
     "base_uri": "https://localhost:8080/",
     "height": 407
    },
    "id": "1GsagOOttL0V",
    "outputId": "66bdb6ef-8211-4173-d8cb-24b22c607e2f"
   },
   "outputs": [
    {
     "name": "stdout",
     "output_type": "stream",
     "text": [
      "5.271631583042476 0.08741654282391062 7.187094777725183e-07 0.016581726677090562 0.08741582411443287\n",
      "1066.5717044748355\n"
     ]
    },
    {
     "name": "stderr",
     "output_type": "stream",
     "text": [
      "/usr/local/lib/python3.7/dist-packages/scipy/integrate/_ivp/base.py:7: VisibleDeprecationWarning: Creating an ndarray from ragged nested sequences (which is a list-or-tuple of lists-or-tuples-or ndarrays with different lengths or shapes) is deprecated. If you meant to do this, you must specify 'dtype=object' when creating the ndarray.\n",
      "  y0 = np.asarray(y0)\n",
      "/usr/local/lib/python3.7/dist-packages/numpy/core/shape_base.py:121: VisibleDeprecationWarning: Creating an ndarray from ragged nested sequences (which is a list-or-tuple of lists-or-tuples-or ndarrays with different lengths or shapes) is deprecated. If you meant to do this, you must specify 'dtype=object' when creating the ndarray.\n",
      "  ary = asanyarray(ary)\n"
     ]
    },
    {
     "data": {
      "text/plain": [
       "<matplotlib.legend.Legend at 0x7fe569c18350>"
      ]
     },
     "execution_count": 145,
     "metadata": {},
     "output_type": "execute_result"
    },
    {
     "data": {
      "image/png": "[encoded data removed]",
      "text/plain": [
       "<Figure size 432x288 with 1 Axes>"
      ]
     },
     "metadata": {
      "needs_background": "light"
     },
     "output_type": "display_data"
    }
   ],
   "source": [
    "Po = 101325*23.65\n",
    "Start = [0, 0, 0, 0, 0, F_EBo/n_tubes, 0, To, Po, K_ergun(Po_new)]\n",
    "Wspan = numpy.linspace(0,W/n_tubes,37)\n",
    "Out = solve_ivp(DE, (0,W/n_tubes), Start, dense_output = True)\n",
    "Sty = Out.y[4][-1]*n_tubes\n",
    "Tol = Out.y[3][-1]*n_tubes\n",
    "Ben = Out.y[2][-1]*n_tubes\n",
    "H = Out.y[6][-1]*n_tubes\n",
    "selec = Sty/(Tol+Ben)\n",
    "print(selec, Sty*1000, Tol*1000, Ben*1000, H*1000)\n",
    "P = Out.y[8][-1]\n",
    "print(Po/1000-P/1000)\n",
    "F_M, F_E, F_B, F_T, F_Sty, F_EB, F_H, T, P, Po = Out.sol(Wspan)\n",
    "Sty_new = F_Sty*n_tubes*1000\n",
    "plt.plot(Wspan,Sty_new)\n",
    "plt.plot(Wspan,Sty_original)\n",
    "plt.legend(['new','original'])"
   ]
  },
  {
   "cell_type": "markdown",
   "metadata": {
    "id": "3kEdDZWaJcHG"
   },
   "source": [
    "Code for Approach 2:"
   ]
  },
  {
   "cell_type": "code",
   "execution_count": 146,
   "metadata": {
    "id": "R1AWFHJkt-no"
   },
   "outputs": [],
   "source": [
    "def DE(W, var):\n",
    "  F_M, F_E, F_B, F_T, F_Sty, F_EB, F_H, T, P, Po = var\n",
    "\n",
    "  Ft = F_M + F_E + F_B + F_T + F_Sty + F_EB + F_H + F_St\n",
    "  P_in_atm = P/101325\n",
    "  P_Sty = F_Sty*P_in_atm/Ft\n",
    "  P_EB = F_EB*P_in_atm/Ft\n",
    "  P_H = F_H*P_in_atm/Ft\n",
    "\n",
    "  k1 = numpy.exp(-0.08539 - 10925/T)\n",
    "  Kp1 = numpy.exp(b1 + b2/T + b3*numpy.log(T) + ((b4*T + b5)*T + b6)*T) #atm\n",
    "  rSty1 = pb*k1*(P_EB - P_Sty*P_H/Kp1) #kmol/m3/s\n",
    "\n",
    "  k2 = numpy.exp(13.2392 - 25000/T)\n",
    "  rB2 = pb*k2*P_EB #kmol/m3/s\n",
    "\n",
    "  k3 = numpy.exp(0.2961 - 11000/T)\n",
    "  rT3 = pb*k3*P_EB*P_H #kmol/m3/s\n",
    "\n",
    "  rEB1 = -rSty1 \n",
    "  rEB2 = - rB2 \n",
    "  rEB3 = - rT3\n",
    "\n",
    "\n",
    "  dFMdW = rT3/pb\n",
    "  dFEdW = rB2/pb\n",
    "  dFBdW = rB2/pb\n",
    "  dFTdW = rT3/pb\n",
    "  dFStydW = rSty1/pb\n",
    "  dFEBdW = (-rSty1 - rB2 - rT3)/pb\n",
    "  dFHdW = (rSty1 - rT3)/pb\n",
    "\n",
    "  delHrx1 = delHrx1_ref + delCp1*(T-298)\n",
    "  delHrx2 = delHrx2_ref + delCp2*(T-298)\n",
    "  delHrx3 = delHrx3_ref + delCp3*(T-298)\n",
    "\n",
    "  dPdW = -K_ergun(Po)*Po*Ft*T/(P*Fto*To)/A_cross/pb #Pa/kg\n",
    "  dPodW = 0\n",
    "\n",
    "  sum_Fi_Cpi = F_M*CpM + F_E*CpE + F_B*CpB + F_T*CpT + F_Sty*CpSty + F_EB*CpEB + F_H*CpH + F_St*CpSt\n",
    "  dTdW = (-rEB1*delHrx1 - rEB2*delHrx2 - rEB3*delHrx3 - Ua*(1000-T))/-sum_Fi_Cpi/pb \n",
    "  \n",
    "  return dFMdW, dFEdW, dFBdW, dFTdW, dFStydW, dFEBdW, dFHdW, dTdW, dPdW, dPodW"
   ]
  },
  {
   "cell_type": "code",
   "execution_count": 147,
   "metadata": {
    "id": "9QrGWJuPAwSn"
   },
   "outputs": [],
   "source": [
    "def PSTOP(W, var):\n",
    "  F_M, F_E, F_B, F_T, F_Sty, F_EB, F_H, T, P, Po = var\n",
    "  return Po - 200000 - P"
   ]
  },
  {
   "cell_type": "code",
   "execution_count": 148,
   "metadata": {
    "colab": {
     "base_uri": "https://localhost:8080/"
    },
    "id": "dr0dVqyiUhy9",
    "outputId": "0440bd39-afcd-427f-b12f-7b080d64c48a"
   },
   "outputs": [
    {
     "name": "stdout",
     "output_type": "stream",
     "text": [
      "15.753429706678068\n"
     ]
    }
   ],
   "source": [
    "#Po in Approach 2 was manually solved as 23.65 atm for which W_cat per tube will have 200 kPa P-drop\n",
    "print(W/n_tubes)"
   ]
  },
  {
   "cell_type": "code",
   "execution_count": 149,
   "metadata": {
    "colab": {
     "base_uri": "https://localhost:8080/"
    },
    "id": "aHUxOE6Sqvr2",
    "outputId": "6fb9093e-e988-4c56-ebc7-75234c70c10b"
   },
   "outputs": [
    {
     "name": "stdout",
     "output_type": "stream",
     "text": [
      "200.00000000018235\n"
     ]
    }
   ],
   "source": [
    "Po = 101325*23.65\n",
    "Start = [0, 0, 0, 0, 0, F_EBo/n_tubes, 0, To, Po, Po]\n",
    "Out = solve_ivp(DE, [0,W/n_tubes], Start, events = PSTOP, dense_output = True)\n",
    "W_cat = Out.t_events[0][0]\n",
    "Wrange = (0,W_cat)\n",
    "Wspan = numpy.linspace(0,W_cat,37)\n",
    "Out = solve_ivp(DE, Wrange, Start, events = PSTOP, dense_output = True)\n",
    "F_M, F_E, F_B, F_T, F_Sty, F_EB, F_H, T, P, Po = Out.sol(Wspan)\n",
    "W_cat\n",
    "print((Po/1000-P/1000)[-1])"
   ]
  },
  {
   "cell_type": "code",
   "execution_count": 150,
   "metadata": {
    "colab": {
     "base_uri": "https://localhost:8080/"
    },
    "id": "HdnpqQC4U1OR",
    "outputId": "542ebe53-f961-4b1f-8d15-cd17eceb56d3"
   },
   "outputs": [
    {
     "name": "stdout",
     "output_type": "stream",
     "text": [
      "16094.192248967416 Pa/m\n"
     ]
    }
   ],
   "source": [
    "#The Ergun constant for this approach is \n",
    "print(K_ergun(101325*23.65), 'Pa/m')"
   ]
  },
  {
   "cell_type": "code",
   "execution_count": 151,
   "metadata": {
    "colab": {
     "base_uri": "https://localhost:8080/",
     "height": 558
    },
    "id": "Udnv_TwEqyVx",
    "outputId": "6fd4037f-543d-4d90-9d13-9e4dd2089a28"
   },
   "outputs": [
    {
     "data": {
      "image/png": "[encoded data removed]",
      "text/plain": [
       "<Figure size 432x288 with 1 Axes>"
      ]
     },
     "metadata": {
      "needs_background": "light"
     },
     "output_type": "display_data"
    },
    {
     "data": {
      "image/png": "[encoded data removed]",
      "text/plain": [
       "<Figure size 432x288 with 1 Axes>"
      ]
     },
     "metadata": {
      "needs_background": "light"
     },
     "output_type": "display_data"
    },
    {
     "data": {
      "text/plain": [
       "5.270479548044609"
      ]
     },
     "execution_count": 151,
     "metadata": {},
     "output_type": "execute_result"
    }
   ],
   "source": [
    "Sty = Out.y[4][-1]*n_tubes\n",
    "Tol = Out.y[3][-1]*n_tubes\n",
    "Ben = Out.y[2][-1]*n_tubes\n",
    "H = Out.y[6][-1]*n_tubes\n",
    "selec = Sty/(Tol+Ben)\n",
    "plt.plot(Wspan,P/1000)\n",
    "plt.xlabel('Mass of catalyst per tube (kg)')\n",
    "plt.ylabel('Pressure (kPa)')\n",
    "plt.show()\n",
    "plt.plot(Wspan,Sty_original)\n",
    "plt.plot(Wspan,Sty_new)\n",
    "plt.plot(Wspan, F_Sty*1000*n_tubes)#, F_T, F_B, F_H)\n",
    "plt.xlabel('Mass of catalyst per tube (kg)')\n",
    "plt.ylabel('Styrene (kmol/s)')\n",
    "\n",
    "plt.legend(['Original','Approach 1','Approach 2', ])\n",
    "#plt.plot(Wspan, F_T*1000*n_tubes))#, F_B, F_H)\n",
    "plt.show()\n",
    "\n",
    "selec"
   ]
  },
  {
   "cell_type": "markdown",
   "metadata": {
    "id": "WqqkSwn56amy"
   },
   "source": [
    "original ergun constant very large: concentration becomes so low that reaction stops 2 kg down reactor\n"
   ]
  },
  {
   "cell_type": "code",
   "execution_count": 151,
   "metadata": {
    "id": "3IidTtYw6Cc0"
   },
   "outputs": [],
   "source": []
  },
  {
   "cell_type": "code",
   "execution_count": 151,
   "metadata": {
    "id": "JVWAM_o36CjH"
   },
   "outputs": [],
   "source": []
  },
  {
   "cell_type": "code",
   "execution_count": 151,
   "metadata": {
    "id": "9wLeaCP76Clh"
   },
   "outputs": [],
   "source": []
  },
  {
   "cell_type": "code",
   "execution_count": 151,
   "metadata": {
    "id": "Op8k6Ed46Coa"
   },
   "outputs": [],
   "source": []
  },
  {
   "cell_type": "code",
   "execution_count": 151,
   "metadata": {
    "id": "J-ElbqLO6CrY"
   },
   "outputs": [],
   "source": []
  },
  {
   "cell_type": "code",
   "execution_count": 151,
   "metadata": {
    "id": "JLkNHIRB6Cty"
   },
   "outputs": [],
   "source": []
  },
  {
   "cell_type": "markdown",
   "metadata": {
    "id": "pX0aUl5NabsF"
   },
   "source": [
    "Selectivities and flowrates for styrene, toluene, benzene and hydrogen for different K_ergun constants were printed below"
   ]
  },
  {
   "cell_type": "code",
   "execution_count": 152,
   "metadata": {
    "colab": {
     "base_uri": "https://localhost:8080/"
    },
    "id": "8QvW3mvCaOhL",
    "outputId": "996dd7b5-aeb9-4a9b-f980-079d2fced50e"
   },
   "outputs": [
    {
     "name": "stdout",
     "output_type": "stream",
     "text": [
      "0.9595059362127172\n",
      "0.8707733508723474\n",
      "0.959470433886097\n",
      "1.0\n"
     ]
    }
   ],
   "source": [
    " #=[5.27044573489527, 0.02558022430691441, 1.8981650122431302e-08, 0.004853503015085268, 0.025580205325264276] #Pin = 23.65 atm\n",
    "No_P_drop =[5.270249397518096, 0.10904810080925462, 1.4923479187845177e-06, 0.020689767701483872, 0.10463100056240475]\n",
    "Approach_2 =[5.270479548044609, 0.10463230005920261, 1.2994967979073683e-06, 0.019851220393545286, 0.10463100056240475] #200 kPa drop Pin = 23 atm\n",
    "#Selectivity, FSty, FTol, FBen =[5.270478138372576 0.10464252661571906 1.299742966034911e-06 0.01985316580425862 0.10464122687275305] Koriginal Pin = 23 atm\n",
    "#Selectivity, FSty, FTol, FBen =[5.280666750360767, 0.00570757536432149, 6.074981523691482e-10, 0.001080843087842319, 0.005707574756823337]  Knew from (Approach 1) but w Pin = 23 atm\n",
    "print(Approach_2[1]/No_P_drop[1])\n",
    "print(Approach_2[2]/No_P_drop[2])\n",
    "print(Approach_2[3]/No_P_drop[3])\n",
    "print(Approach_2[4]/No_P_drop[4])"
   ]
  },
  {
   "cell_type": "code",
   "execution_count": 152,
   "metadata": {
    "id": "eMhF1KPOneGZ"
   },
   "outputs": [],
   "source": []
  },
  {
   "cell_type": "code",
   "execution_count": 152,
   "metadata": {
    "id": "7Fg6UfolneLb"
   },
   "outputs": [],
   "source": []
  },
  {
   "cell_type": "code",
   "execution_count": 152,
   "metadata": {
    "id": "7KDK3LoxneOI"
   },
   "outputs": [],
   "source": []
  },
  {
   "cell_type": "code",
   "execution_count": 152,
   "metadata": {
    "id": "Ydxfy035neRF"
   },
   "outputs": [],
   "source": []
  },
  {
   "cell_type": "code",
   "execution_count": 152,
   "metadata": {
    "id": "sG4xEpQ-neT-"
   },
   "outputs": [],
   "source": []
  },
  {
   "cell_type": "code",
   "execution_count": 152,
   "metadata": {
    "id": "sZ6iSP7aneXG"
   },
   "outputs": [],
   "source": []
  },
  {
   "cell_type": "code",
   "execution_count": 152,
   "metadata": {
    "id": "UywvRZ4-neaR"
   },
   "outputs": [],
   "source": []
  },
  {
   "cell_type": "code",
   "execution_count": 152,
   "metadata": {
    "id": "2EYUSx8enefL"
   },
   "outputs": [],
   "source": []
  },
  {
   "cell_type": "code",
   "execution_count": 153,
   "metadata": {
    "colab": {
     "base_uri": "https://localhost:8080/",
     "height": 296
    },
    "id": "JhIdUM9L-tpI",
    "outputId": "8a6cb8ac-bfcd-4463-97d1-4c8999780e44"
   },
   "outputs": [
    {
     "data": {
      "text/plain": [
       "Text(0, 0.5, 'Pressure (kPa)')"
      ]
     },
     "execution_count": 153,
     "metadata": {},
     "output_type": "execute_result"
    },
    {
     "data": {
      "image/png": "[encoded data removed]",
      "text/plain": [
       "<Figure size 432x288 with 1 Axes>"
      ]
     },
     "metadata": {
      "needs_background": "light"
     },
     "output_type": "display_data"
    }
   ],
   "source": [
    "plt.plot(Wspan,P/1000)\n",
    "plt.xlabel('Mass of catalyst per tube (kg)')\n",
    "plt.ylabel('Pressure (kPa)')"
   ]
  },
  {
   "cell_type": "code",
   "execution_count": 153,
   "metadata": {
    "id": "myrBdDTUmfRk"
   },
   "outputs": [],
   "source": []
  },
  {
   "cell_type": "code",
   "execution_count": 153,
   "metadata": {
    "id": "Xgxn3gejmfVG"
   },
   "outputs": [],
   "source": []
  },
  {
   "cell_type": "code",
   "execution_count": 153,
   "metadata": {
    "id": "lLdMUoofmfX7"
   },
   "outputs": [],
   "source": []
  },
  {
   "cell_type": "code",
   "execution_count": 153,
   "metadata": {
    "id": "hQmwnIrpmfaW"
   },
   "outputs": [],
   "source": []
  },
  {
   "cell_type": "code",
   "execution_count": 153,
   "metadata": {
    "id": "P-mHCTv8mfdR"
   },
   "outputs": [],
   "source": []
  },
  {
   "cell_type": "code",
   "execution_count": 153,
   "metadata": {
    "id": "PTvjNENjmfgG"
   },
   "outputs": [],
   "source": []
  },
  {
   "cell_type": "code",
   "execution_count": 153,
   "metadata": {
    "id": "8nl-HPLImfi4"
   },
   "outputs": [],
   "source": []
  },
  {
   "cell_type": "code",
   "execution_count": 153,
   "metadata": {
    "id": "ZI9BM4s4mfld"
   },
   "outputs": [],
   "source": []
  },
  {
   "cell_type": "code",
   "execution_count": 153,
   "metadata": {
    "id": "CMC6sPLJmfn9"
   },
   "outputs": [],
   "source": []
  },
  {
   "cell_type": "code",
   "execution_count": 153,
   "metadata": {
    "id": "3areAy7mmcCb"
   },
   "outputs": [],
   "source": []
  },
  {
   "cell_type": "code",
   "execution_count": 153,
   "metadata": {
    "id": "nqJIYuqJmcLH"
   },
   "outputs": [],
   "source": []
  },
  {
   "cell_type": "code",
   "execution_count": 153,
   "metadata": {
    "id": "Glc6sR-umcNt"
   },
   "outputs": [],
   "source": []
  },
  {
   "cell_type": "code",
   "execution_count": 153,
   "metadata": {
    "id": "L59_k9MbmcQS"
   },
   "outputs": [],
   "source": []
  },
  {
   "cell_type": "code",
   "execution_count": 153,
   "metadata": {
    "id": "l3fY5GdymcTM"
   },
   "outputs": [],
   "source": []
  },
  {
   "cell_type": "code",
   "execution_count": 153,
   "metadata": {
    "id": "ZBbfUO1kmcWV"
   },
   "outputs": [],
   "source": []
  },
  {
   "cell_type": "code",
   "execution_count": 153,
   "metadata": {
    "id": "nGq5cX0AmcZj"
   },
   "outputs": [],
   "source": []
  },
  {
   "cell_type": "code",
   "execution_count": 153,
   "metadata": {
    "id": "Gvtbio2Fmcci"
   },
   "outputs": [],
   "source": []
  },
  {
   "cell_type": "code",
   "execution_count": 153,
   "metadata": {
    "id": "UzdC7TI5mcf6"
   },
   "outputs": [],
   "source": []
  },
  {
   "cell_type": "code",
   "execution_count": 153,
   "metadata": {
    "id": "rH2ryNaWmcij"
   },
   "outputs": [],
   "source": []
  },
  {
   "cell_type": "code",
   "execution_count": 153,
   "metadata": {
    "id": "k8dCDaylgZCs"
   },
   "outputs": [],
   "source": []
  },
  {
   "cell_type": "code",
   "execution_count": 153,
   "metadata": {
    "id": "b1JeyGS7gZKz"
   },
   "outputs": [],
   "source": []
  },
  {
   "cell_type": "code",
   "execution_count": 153,
   "metadata": {
    "id": "57KL9okKgZNr"
   },
   "outputs": [],
   "source": []
  },
  {
   "cell_type": "code",
   "execution_count": 153,
   "metadata": {
    "id": "tP_U_wXygZQ1"
   },
   "outputs": [],
   "source": []
  },
  {
   "cell_type": "code",
   "execution_count": 153,
   "metadata": {
    "id": "OcbyPh3xgZT7"
   },
   "outputs": [],
   "source": []
  },
  {
   "cell_type": "code",
   "execution_count": 153,
   "metadata": {
    "id": "bEm7IP8ugZWj"
   },
   "outputs": [],
   "source": []
  },
  {
   "cell_type": "code",
   "execution_count": 153,
   "metadata": {
    "id": "vdOnOW9McF1A"
   },
   "outputs": [],
   "source": []
  }
 ],
 "metadata": {
  "colab": {
   "collapsed_sections": [],
   "name": "Investigation3 (11).ipynb",
   "provenance": []
  },
  "kernelspec": {
   "display_name": "Python 3",
   "language": "python",
   "name": "python3"
  },
  "language_info": {
   "codemirror_mode": {
    "name": "ipython",
    "version": 3
   },
   "file_extension": ".py",
   "mimetype": "text/x-python",
   "name": "python",
   "nbconvert_exporter": "python",
   "pygments_lexer": "ipython3",
   "version": "3.8.8"
  }
 },
 "nbformat": 4,
 "nbformat_minor": 1
}
